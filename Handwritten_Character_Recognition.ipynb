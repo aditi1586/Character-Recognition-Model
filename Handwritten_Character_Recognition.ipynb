{
  "cells": [
    {
      "cell_type": "markdown",
      "metadata": {
        "id": "Bz2zkFW1YJnR"
      },
      "source": [
        "#Handwritten Character Recognition"
      ]
    },
    {
      "cell_type": "code",
      "execution_count": 1,
      "metadata": {
        "id": "ss50srfmjQ5J"
      },
      "outputs": [],
      "source": [
        "import pandas as pd\n",
        "import numpy as np\n",
        "import matplotlib.pyplot as plt\n"
      ]
    },
    {
      "cell_type": "markdown",
      "metadata": {
        "id": "86H6q519YWAX"
      },
      "source": [
        "👉Load Data"
      ]
    },
    {
      "cell_type": "code",
      "execution_count": 2,
      "metadata": {
        "id": "EtGQLLcljjn3"
      },
      "outputs": [],
      "source": [
        "train_dir = pd.read_csv(r\"C:\\Users\\aditi\\Downloads\\HandwrittenCharacterRecognition-main\\HandwrittenCharacterRecognition-main\\emnist-balanced-train.csv\")\n",
        "test_dir = pd.read_csv(r\"C:\\Users\\aditi\\Downloads\\HandwrittenCharacterRecognition-main\\HandwrittenCharacterRecognition-main\\emnist-balanced-test.csv\")"
      ]
    },
    {
      "cell_type": "code",
      "execution_count": 3,
      "metadata": {
        "colab": {
          "base_uri": "https://localhost:8080/"
        },
        "id": "Ze5rRmB0aYlu",
        "outputId": "88877ce2-9863-47b8-f315-0ca45db399c4"
      },
      "outputs": [
        {
          "data": {
            "text/plain": [
              "((112799, 785), (18799, 785))"
            ]
          },
          "execution_count": 3,
          "metadata": {},
          "output_type": "execute_result"
        }
      ],
      "source": [
        "train_dir.shape, test_dir.shape"
      ]
    },
    {
      "cell_type": "markdown",
      "metadata": {
        "id": "q_UaKcXzYZaG"
      },
      "source": [
        "👉Data Cleaning (Remove 'nan' values)"
      ]
    },
    {
      "cell_type": "code",
      "execution_count": 4,
      "metadata": {
        "colab": {
          "base_uri": "https://localhost:8080/"
        },
        "id": "b-ArrSAYX1Cx",
        "outputId": "6d0e49d7-e7cc-4f71-b17f-bde168e01fde"
      },
      "outputs": [
        {
          "name": "stdout",
          "output_type": "stream",
          "text": [
            "45       0\n",
            "0        0\n",
            "0.1      0\n",
            "0.2      0\n",
            "0.3      0\n",
            "        ..\n",
            "0.529    0\n",
            "0.530    0\n",
            "0.531    0\n",
            "0.532    0\n",
            "0.533    0\n",
            "Length: 785, dtype: int64\n",
            "41       0\n",
            "0        0\n",
            "0.1      0\n",
            "0.2      0\n",
            "0.3      0\n",
            "        ..\n",
            "0.528    0\n",
            "0.529    0\n",
            "0.530    0\n",
            "0.531    0\n",
            "0.532    0\n",
            "Length: 785, dtype: int64\n"
          ]
        }
      ],
      "source": [
        "print(train_dir.isna().sum())\n",
        "print(test_dir.isna().sum())"
      ]
    },
    {
      "cell_type": "code",
      "execution_count": 5,
      "metadata": {
        "id": "MS6mOK5eXba-"
      },
      "outputs": [],
      "source": [
        "# # because the last data topic have several 'nan' values\n",
        "# train_dir = train_dir.iloc[:-1, :]\n",
        "# test_dir = test_dir.iloc[:-1, :]"
      ]
    },
    {
      "cell_type": "code",
      "execution_count": 6,
      "metadata": {
        "colab": {
          "base_uri": "https://localhost:8080/"
        },
        "id": "Ev4DpubEXbYF",
        "outputId": "d6ece9c8-04bf-48c3-ef8f-683ab95e979a"
      },
      "outputs": [
        {
          "name": "stdout",
          "output_type": "stream",
          "text": [
            "45       0\n",
            "0        0\n",
            "0.1      0\n",
            "0.2      0\n",
            "0.3      0\n",
            "        ..\n",
            "0.529    0\n",
            "0.530    0\n",
            "0.531    0\n",
            "0.532    0\n",
            "0.533    0\n",
            "Length: 785, dtype: int64\n",
            "41       0\n",
            "0        0\n",
            "0.1      0\n",
            "0.2      0\n",
            "0.3      0\n",
            "        ..\n",
            "0.528    0\n",
            "0.529    0\n",
            "0.530    0\n",
            "0.531    0\n",
            "0.532    0\n",
            "Length: 785, dtype: int64\n"
          ]
        }
      ],
      "source": [
        "print(train_dir.isna().sum())\n",
        "print(test_dir.isna().sum())"
      ]
    },
    {
      "cell_type": "code",
      "execution_count": 91,
      "metadata": {
        "id": "INhPIhs3Y_u4"
      },
      "outputs": [],
      "source": []
    },
    {
      "cell_type": "markdown",
      "metadata": {
        "id": "o1QquCt_YmDo"
      },
      "source": [
        "👉Map for the labels\n",
        "\n",
        "labels are mapped to ascii values of the character in the image."
      ]
    },
    {
      "cell_type": "code",
      "execution_count": 7,
      "metadata": {
        "id": "l5y6cVMCj2OQ"
      },
      "outputs": [],
      "source": [
        "map = {0 : 48,\n",
        "1 : 49,\n",
        "2 : 50,\n",
        "3 : 51,\n",
        "4 : 52,\n",
        "5 : 53,\n",
        "6 : 54,\n",
        "7 : 55,\n",
        "8 : 56,\n",
        "9 : 57,\n",
        "10 : 65,\n",
        "11 : 66,\n",
        "12 : 67,\n",
        "13 : 68,\n",
        "14 : 69,\n",
        "15 : 70,\n",
        "16 : 71,\n",
        "17 : 72,\n",
        "18 : 73,\n",
        "19 : 74,\n",
        "20 : 75,\n",
        "21 : 76,\n",
        "22 : 77,\n",
        "23 : 78,\n",
        "24 : 79,\n",
        "25 : 80,\n",
        "26 : 81,\n",
        "27 : 82,\n",
        "28 : 83,\n",
        "29 : 84,\n",
        "30 : 85,\n",
        "31 : 86,\n",
        "32 : 87,\n",
        "33 : 88,\n",
        "34 : 89,\n",
        "35 : 90,\n",
        "36 : 97,\n",
        "37 : 98,\n",
        "38 : 100,\n",
        "39 : 101,\n",
        "40 : 102,\n",
        "41 : 103,\n",
        "42 : 104,\n",
        "43 : 110,\n",
        "44 : 113,\n",
        "45 : 114,\n",
        "46 : 116}"
      ]
    },
    {
      "cell_type": "code",
      "execution_count": 8,
      "metadata": {
        "colab": {
          "base_uri": "https://localhost:8080/"
        },
        "id": "1o6lgElWZoV7",
        "outputId": "0332df21-df0b-46a1-d2a0-837f361739fc"
      },
      "outputs": [
        {
          "data": {
            "text/plain": [
              "(112799, 18799)"
            ]
          },
          "execution_count": 8,
          "metadata": {},
          "output_type": "execute_result"
        }
      ],
      "source": [
        "num_train_images = train_dir.shape[0]\n",
        "num_test_images = test_dir.shape[0]\n",
        "\n",
        "num_train_images, num_test_images"
      ]
    },
    {
      "cell_type": "markdown",
      "metadata": {
        "id": "-PnbeNeAZLl9"
      },
      "source": [
        "👉Visualizing the data"
      ]
    },
    {
      "cell_type": "code",
      "execution_count": 9,
      "metadata": {
        "colab": {
          "base_uri": "https://localhost:8080/",
          "height": 469
        },
        "id": "L8gD3-mImivw",
        "outputId": "25049437-d426-4fcb-eb15-2ce1fe304e42"
      },
      "outputs": [
        {
          "data": {
            "text/plain": [
              "Text(0.5, 1.0, 'Z')"
            ]
          },
          "execution_count": 9,
          "metadata": {},
          "output_type": "execute_result"
        },
        {
          "data": {
            "image/png": "[encoded data removed]",
            "text/plain": [
              "<Figure size 640x480 with 1 Axes>"
            ]
          },
          "metadata": {},
          "output_type": "display_data"
        }
      ],
      "source": [
        "import random\n",
        "t = random.randint(0, num_train_images-1)\n",
        "plt.imshow(np.asarray(train_dir.iloc[t, 1:]).reshape([28,28]), cmap='gray')\n",
        "plt.title(chr(map[train_dir.iloc[t, 0]]))"
      ]
    },
    {
      "cell_type": "markdown",
      "metadata": {
        "id": "xkvfxo05d1wY"
      },
      "source": [
        "👉Seperate Data and Label for train and test data"
      ]
    },
    {
      "cell_type": "code",
      "execution_count": 10,
      "metadata": {
        "id": "seAow3Tvmpdp"
      },
      "outputs": [],
      "source": [
        "X_train = np.asarray(train_dir.iloc[:, 1:])\n",
        "Y_train = np.asarray(train_dir.iloc[:, 0])\n",
        "\n",
        "X_test = np.asarray(train_dir.iloc[:, 1:])\n",
        "Y_test = np.asarray(train_dir.iloc[:, 0])"
      ]
    },
    {
      "cell_type": "markdown",
      "metadata": {
        "id": "2SJcJhuKd_ZY"
      },
      "source": [
        "👉Normalise"
      ]
    },
    {
      "cell_type": "code",
      "execution_count": 11,
      "metadata": {
        "id": "mWSVKVTWnyko"
      },
      "outputs": [],
      "source": [
        "X_train = X_train/255.0\n",
        "X_test = X_test/255.0"
      ]
    },
    {
      "cell_type": "markdown",
      "metadata": {
        "id": "RCYCJpPdjCfJ"
      },
      "source": [
        "👉Reshaping the images"
      ]
    },
    {
      "cell_type": "code",
      "execution_count": 12,
      "metadata": {
        "id": "253M60bEiCZQ"
      },
      "outputs": [],
      "source": [
        "X_train = X_train.reshape(-1, 28, 28, 1)\n",
        "X_test = X_test.reshape(-1, 28, 28, 1)"
      ]
    },
    {
      "cell_type": "markdown",
      "metadata": {
        "id": "6MVPEIeEEtzr"
      },
      "source": [
        "👉One-hot encoding of labels"
      ]
    },
    {
      "cell_type": "code",
      "execution_count": 13,
      "metadata": {
        "id": "N0e86YcuxnZ6"
      },
      "outputs": [],
      "source": [
        "from tensorflow.keras.utils import to_categorical\n",
        "\n",
        "Y_train = to_categorical(Y_train, num_classes = 47)\n",
        "Y_test = to_categorical(Y_test, num_classes = 47)\n",
        "\n",
        "Y_train = Y_train.astype(int)\n",
        "Y_test = Y_test.astype(int)"
      ]
    },
    {
      "cell_type": "code",
      "execution_count": 14,
      "metadata": {
        "colab": {
          "base_uri": "https://localhost:8080/"
        },
        "id": "3vOnCIPB8ALX",
        "outputId": "1227db01-dd68-4bc6-9271-42a7984d3386"
      },
      "outputs": [
        {
          "data": {
            "text/plain": [
              "((112799, 47), (112799, 47))"
            ]
          },
          "execution_count": 14,
          "metadata": {},
          "output_type": "execute_result"
        }
      ],
      "source": [
        "Y_train.shape, Y_test.shape"
      ]
    },
    {
      "cell_type": "code",
      "execution_count": 15,
      "metadata": {
        "colab": {
          "base_uri": "https://localhost:8080/"
        },
        "id": "25IE8ptuiXei",
        "outputId": "634e2311-27d3-405d-d5b5-a773f1d9bcbd"
      },
      "outputs": [
        {
          "data": {
            "text/plain": [
              "((112799, 28, 28, 1), (112799, 47), (112799, 28, 28, 1), (112799, 47))"
            ]
          },
          "execution_count": 15,
          "metadata": {},
          "output_type": "execute_result"
        }
      ],
      "source": [
        "X_train.shape, Y_train.shape, X_test.shape, Y_test.shape"
      ]
    },
    {
      "cell_type": "code",
      "execution_count": 16,
      "metadata": {
        "colab": {
          "base_uri": "https://localhost:8080/"
        },
        "id": "jH5iUg53FPEW",
        "outputId": "5f564c52-5855-471e-b892-6defdea8b56f"
      },
      "outputs": [
        {
          "data": {
            "text/plain": [
              "(dtype('float64'), dtype('int32'), dtype('float64'), dtype('int32'))"
            ]
          },
          "execution_count": 16,
          "metadata": {},
          "output_type": "execute_result"
        }
      ],
      "source": [
        "X_train.dtype, Y_train.dtype, X_test.dtype, Y_test.dtype"
      ]
    },
    {
      "cell_type": "code",
      "execution_count": 17,
      "metadata": {
        "colab": {
          "base_uri": "https://localhost:8080/",
          "height": 469
        },
        "id": "Ygmv6OKniCV2",
        "outputId": "3b147032-e423-41f1-bbd8-5f12808e3d06"
      },
      "outputs": [
        {
          "data": {
            "text/plain": [
              "Text(0.5, 1.0, 'r')"
            ]
          },
          "execution_count": 17,
          "metadata": {},
          "output_type": "execute_result"
        },
        {
          "data": {
            "image/png": "[encoded data removed]",
            "text/plain": [
              "<Figure size 640x480 with 1 Axes>"
            ]
          },
          "metadata": {},
          "output_type": "display_data"
        }
      ],
      "source": [
        "import random\n",
        "t = random.randint(0, num_train_images-1)\n",
        "plt.imshow(X_train[t], cmap='gray')\n",
        "plt.title(chr(map[np.argmax(Y_train[t])]))"
      ]
    },
    {
      "cell_type": "markdown",
      "metadata": {
        "id": "_vTQg62zE1ah"
      },
      "source": [
        "👉 Making the orientation of image correct\n",
        "\n",
        "Flipping it horizontally and then rotate it 90 degrees anticlockwise"
      ]
    },
    {
      "cell_type": "code",
      "execution_count": 18,
      "metadata": {
        "id": "xsHoAq0hiMJZ"
      },
      "outputs": [],
      "source": [
        "def flip_and_rotate_90anticlockwise(image):\n",
        "    # Horizontal flip\n",
        "    flipped_image = np.fliplr(image)\n",
        "    # Rotate 90 degrees anticlockwise\n",
        "    rotated_image = np.rot90(flipped_image.reshape(28, 28), k=1).reshape(28, 28, 1)\n",
        "    return rotated_image"
      ]
    },
    {
      "cell_type": "code",
      "execution_count": 19,
      "metadata": {
        "id": "VYSVYJ3fIDwk"
      },
      "outputs": [],
      "source": [
        "X_train = np.asarray([flip_and_rotate_90anticlockwise(image) for image in X_train])\n",
        "X_test = np.asarray([flip_and_rotate_90anticlockwise(image) for image in X_test])"
      ]
    },
    {
      "cell_type": "code",
      "execution_count": 20,
      "metadata": {
        "colab": {
          "base_uri": "https://localhost:8080/",
          "height": 469
        },
        "id": "-FOGDRpkIkSZ",
        "outputId": "01c88eed-ed2f-47a1-8e5e-a00b93e724ee"
      },
      "outputs": [
        {
          "data": {
            "text/plain": [
              "Text(0.5, 1.0, 'U')"
            ]
          },
          "execution_count": 20,
          "metadata": {},
          "output_type": "execute_result"
        },
        {
          "data": {
            "image/png": "[encoded data removed]",
            "text/plain": [
              "<Figure size 640x480 with 1 Axes>"
            ]
          },
          "metadata": {},
          "output_type": "display_data"
        }
      ],
      "source": [
        "import random\n",
        "t = random.randint(0, num_train_images-1)\n",
        "plt.imshow(X_train[t], cmap='gray')\n",
        "plt.title(chr(map[np.argmax(Y_train[t])]))"
      ]
    },
    {
      "cell_type": "markdown",
      "metadata": {
        "id": "yu7KuUkgFIQd"
      },
      "source": [
        "👉Define Model"
      ]
    },
    {
      "cell_type": "code",
      "execution_count": 21,
      "metadata": {
        "id": "p5zBZ6mcw5Yq"
      },
      "outputs": [],
      "source": [
        "from tensorflow.keras.models import Sequential\n",
        "from tensorflow.keras.layers import Conv2D, MaxPooling2D, Flatten, Dense"
      ]
    },
    {
      "cell_type": "code",
      "execution_count": 22,
      "metadata": {
        "id": "zSv6yt_QzN3s"
      },
      "outputs": [
        {
          "name": "stderr",
          "output_type": "stream",
          "text": [
            "c:\\Users\\aditi\\AppData\\Local\\Programs\\Python\\Python312\\Lib\\site-packages\\keras\\src\\layers\\convolutional\\base_conv.py:107: UserWarning: Do not pass an `input_shape`/`input_dim` argument to a layer. When using Sequential models, prefer using an `Input(shape)` object as the first layer in the model instead.\n",
            "  super().__init__(activity_regularizer=activity_regularizer, **kwargs)\n"
          ]
        }
      ],
      "source": [
        "model = Sequential([\n",
        "    Conv2D(32, (3, 3), activation='relu', input_shape=(28, 28, 1)),\n",
        "    MaxPooling2D(2, 2),\n",
        "    Conv2D(64, (3, 3), activation='relu'),\n",
        "    MaxPooling2D(2, 2),\n",
        "    Flatten(),\n",
        "    Dense(64, activation='relu'),\n",
        "    Dense(47, activation='softmax')\n",
        "])"
      ]
    },
    {
      "cell_type": "code",
      "execution_count": 23,
      "metadata": {
        "id": "7zvIieYw516_"
      },
      "outputs": [],
      "source": [
        "model.compile(optimizer='adam', loss = 'categorical_crossentropy', metrics=['accuracy'])"
      ]
    },
    {
      "cell_type": "markdown",
      "metadata": {
        "id": "NE21ioDBFO2a"
      },
      "source": [
        "👉Training the Model"
      ]
    },
    {
      "cell_type": "code",
      "execution_count": 25,
      "metadata": {
        "colab": {
          "base_uri": "https://localhost:8080/"
        },
        "id": "os1eFKPW6fO1",
        "outputId": "64c90a14-9417-4907-b4a6-55c15942712c"
      },
      "outputs": [
        {
          "name": "stdout",
          "output_type": "stream",
          "text": [
            "Epoch 1/30\n",
            "\u001b[1m3525/3525\u001b[0m \u001b[32m━━━━━━━━━━━━━━━━━━━━\u001b[0m\u001b[37m\u001b[0m \u001b[1m55s\u001b[0m 15ms/step - accuracy: 0.6632 - loss: 1.1576 - val_accuracy: 0.8398 - val_loss: 0.4628\n",
            "Epoch 2/30\n",
            "\u001b[1m3525/3525\u001b[0m \u001b[32m━━━━━━━━━━━━━━━━━━━━\u001b[0m\u001b[37m\u001b[0m \u001b[1m100s\u001b[0m 28ms/step - accuracy: 0.8500 - loss: 0.4371 - val_accuracy: 0.8693 - val_loss: 0.3671\n",
            "Epoch 3/30\n",
            "\u001b[1m3525/3525\u001b[0m \u001b[32m━━━━━━━━━━━━━━━━━━━━\u001b[0m\u001b[37m\u001b[0m \u001b[1m83s\u001b[0m 23ms/step - accuracy: 0.8683 - loss: 0.3647 - val_accuracy: 0.8830 - val_loss: 0.3240\n",
            "Epoch 4/30\n",
            "\u001b[1m3525/3525\u001b[0m \u001b[32m━━━━━━━━━━━━━━━━━━━━\u001b[0m\u001b[37m\u001b[0m \u001b[1m130s\u001b[0m 37ms/step - accuracy: 0.8837 - loss: 0.3221 - val_accuracy: 0.8953 - val_loss: 0.2853\n",
            "Epoch 5/30\n",
            "\u001b[1m3525/3525\u001b[0m \u001b[32m━━━━━━━━━━━━━━━━━━━━\u001b[0m\u001b[37m\u001b[0m \u001b[1m127s\u001b[0m 36ms/step - accuracy: 0.8906 - loss: 0.2930 - val_accuracy: 0.9036 - val_loss: 0.2582\n",
            "Epoch 6/30\n",
            "\u001b[1m3525/3525\u001b[0m \u001b[32m━━━━━━━━━━━━━━━━━━━━\u001b[0m\u001b[37m\u001b[0m \u001b[1m105s\u001b[0m 30ms/step - accuracy: 0.8979 - loss: 0.2707 - val_accuracy: 0.9083 - val_loss: 0.2437\n",
            "Epoch 7/30\n",
            "\u001b[1m3525/3525\u001b[0m \u001b[32m━━━━━━━━━━━━━━━━━━━━\u001b[0m\u001b[37m\u001b[0m \u001b[1m112s\u001b[0m 32ms/step - accuracy: 0.9045 - loss: 0.2510 - val_accuracy: 0.9024 - val_loss: 0.2371\n",
            "Epoch 8/30\n",
            "\u001b[1m3525/3525\u001b[0m \u001b[32m━━━━━━━━━━━━━━━━━━━━\u001b[0m\u001b[37m\u001b[0m \u001b[1m109s\u001b[0m 31ms/step - accuracy: 0.9078 - loss: 0.2359 - val_accuracy: 0.9161 - val_loss: 0.2143\n",
            "Epoch 9/30\n",
            "\u001b[1m3525/3525\u001b[0m \u001b[32m━━━━━━━━━━━━━━━━━━━━\u001b[0m\u001b[37m\u001b[0m \u001b[1m112s\u001b[0m 32ms/step - accuracy: 0.9141 - loss: 0.2205 - val_accuracy: 0.9211 - val_loss: 0.1993\n",
            "Epoch 10/30\n",
            "\u001b[1m3525/3525\u001b[0m \u001b[32m━━━━━━━━━━━━━━━━━━━━\u001b[0m\u001b[37m\u001b[0m \u001b[1m101s\u001b[0m 29ms/step - accuracy: 0.9186 - loss: 0.2056 - val_accuracy: 0.9283 - val_loss: 0.1826\n",
            "Epoch 11/30\n",
            "\u001b[1m3525/3525\u001b[0m \u001b[32m━━━━━━━━━━━━━━━━━━━━\u001b[0m\u001b[37m\u001b[0m \u001b[1m112s\u001b[0m 32ms/step - accuracy: 0.9220 - loss: 0.1966 - val_accuracy: 0.9278 - val_loss: 0.1778\n",
            "Epoch 12/30\n",
            "\u001b[1m3525/3525\u001b[0m \u001b[32m━━━━━━━━━━━━━━━━━━━━\u001b[0m\u001b[37m\u001b[0m \u001b[1m115s\u001b[0m 33ms/step - accuracy: 0.9257 - loss: 0.1843 - val_accuracy: 0.9342 - val_loss: 0.1633\n",
            "Epoch 13/30\n",
            "\u001b[1m3525/3525\u001b[0m \u001b[32m━━━━━━━━━━━━━━━━━━━━\u001b[0m\u001b[37m\u001b[0m \u001b[1m98s\u001b[0m 28ms/step - accuracy: 0.9277 - loss: 0.1777 - val_accuracy: 0.9352 - val_loss: 0.1595\n",
            "Epoch 14/30\n",
            "\u001b[1m3525/3525\u001b[0m \u001b[32m━━━━━━━━━━━━━━━━━━━━\u001b[0m\u001b[37m\u001b[0m \u001b[1m95s\u001b[0m 27ms/step - accuracy: 0.9308 - loss: 0.1663 - val_accuracy: 0.9357 - val_loss: 0.1569\n",
            "Epoch 15/30\n",
            "\u001b[1m3525/3525\u001b[0m \u001b[32m━━━━━━━━━━━━━━━━━━━━\u001b[0m\u001b[37m\u001b[0m \u001b[1m82s\u001b[0m 23ms/step - accuracy: 0.9341 - loss: 0.1583 - val_accuracy: 0.9416 - val_loss: 0.1419\n",
            "Epoch 16/30\n",
            "\u001b[1m3525/3525\u001b[0m \u001b[32m━━━━━━━━━━━━━━━━━━━━\u001b[0m\u001b[37m\u001b[0m \u001b[1m144s\u001b[0m 41ms/step - accuracy: 0.9380 - loss: 0.1511 - val_accuracy: 0.9412 - val_loss: 0.1423\n",
            "Epoch 17/30\n",
            "\u001b[1m3525/3525\u001b[0m \u001b[32m━━━━━━━━━━━━━━━━━━━━\u001b[0m\u001b[37m\u001b[0m \u001b[1m144s\u001b[0m 41ms/step - accuracy: 0.9390 - loss: 0.1457 - val_accuracy: 0.9441 - val_loss: 0.1331\n",
            "Epoch 18/30\n",
            "\u001b[1m3525/3525\u001b[0m \u001b[32m━━━━━━━━━━━━━━━━━━━━\u001b[0m\u001b[37m\u001b[0m \u001b[1m105s\u001b[0m 30ms/step - accuracy: 0.9424 - loss: 0.1381 - val_accuracy: 0.9462 - val_loss: 0.1300\n",
            "Epoch 19/30\n",
            "\u001b[1m3525/3525\u001b[0m \u001b[32m━━━━━━━━━━━━━━━━━━━━\u001b[0m\u001b[37m\u001b[0m \u001b[1m101s\u001b[0m 29ms/step - accuracy: 0.9447 - loss: 0.1324 - val_accuracy: 0.9486 - val_loss: 0.1279\n",
            "Epoch 20/30\n",
            "\u001b[1m3525/3525\u001b[0m \u001b[32m━━━━━━━━━━━━━━━━━━━━\u001b[0m\u001b[37m\u001b[0m \u001b[1m96s\u001b[0m 27ms/step - accuracy: 0.9481 - loss: 0.1249 - val_accuracy: 0.9494 - val_loss: 0.1221\n",
            "Epoch 21/30\n",
            "\u001b[1m3525/3525\u001b[0m \u001b[32m━━━━━━━━━━━━━━━━━━━━\u001b[0m\u001b[37m\u001b[0m \u001b[1m62s\u001b[0m 18ms/step - accuracy: 0.9467 - loss: 0.1261 - val_accuracy: 0.9535 - val_loss: 0.1127\n",
            "Epoch 22/30\n",
            "\u001b[1m3525/3525\u001b[0m \u001b[32m━━━━━━━━━━━━━━━━━━━━\u001b[0m\u001b[37m\u001b[0m \u001b[1m63s\u001b[0m 18ms/step - accuracy: 0.9506 - loss: 0.1195 - val_accuracy: 0.9584 - val_loss: 0.1010\n",
            "Epoch 23/30\n",
            "\u001b[1m3525/3525\u001b[0m \u001b[32m━━━━━━━━━━━━━━━━━━━━\u001b[0m\u001b[37m\u001b[0m \u001b[1m62s\u001b[0m 17ms/step - accuracy: 0.9533 - loss: 0.1125 - val_accuracy: 0.9558 - val_loss: 0.1058\n",
            "Epoch 24/30\n",
            "\u001b[1m3525/3525\u001b[0m \u001b[32m━━━━━━━━━━━━━━━━━━━━\u001b[0m\u001b[37m\u001b[0m \u001b[1m57s\u001b[0m 16ms/step - accuracy: 0.9533 - loss: 0.1124 - val_accuracy: 0.9573 - val_loss: 0.1023\n",
            "Epoch 25/30\n",
            "\u001b[1m3525/3525\u001b[0m \u001b[32m━━━━━━━━━━━━━━━━━━━━\u001b[0m\u001b[37m\u001b[0m \u001b[1m59s\u001b[0m 17ms/step - accuracy: 0.9553 - loss: 0.1065 - val_accuracy: 0.9586 - val_loss: 0.0993\n",
            "Epoch 26/30\n",
            "\u001b[1m3525/3525\u001b[0m \u001b[32m━━━━━━━━━━━━━━━━━━━━\u001b[0m\u001b[37m\u001b[0m \u001b[1m62s\u001b[0m 18ms/step - accuracy: 0.9560 - loss: 0.1056 - val_accuracy: 0.9585 - val_loss: 0.0994\n",
            "Epoch 27/30\n",
            "\u001b[1m3525/3525\u001b[0m \u001b[32m━━━━━━━━━━━━━━━━━━━━\u001b[0m\u001b[37m\u001b[0m \u001b[1m64s\u001b[0m 18ms/step - accuracy: 0.9581 - loss: 0.1024 - val_accuracy: 0.9590 - val_loss: 0.0985\n",
            "Epoch 28/30\n",
            "\u001b[1m3525/3525\u001b[0m \u001b[32m━━━━━━━━━━━━━━━━━━━━\u001b[0m\u001b[37m\u001b[0m \u001b[1m56s\u001b[0m 16ms/step - accuracy: 0.9589 - loss: 0.0979 - val_accuracy: 0.9623 - val_loss: 0.0919\n",
            "Epoch 29/30\n",
            "\u001b[1m3525/3525\u001b[0m \u001b[32m━━━━━━━━━━━━━━━━━━━━\u001b[0m\u001b[37m\u001b[0m \u001b[1m61s\u001b[0m 17ms/step - accuracy: 0.9594 - loss: 0.0977 - val_accuracy: 0.9582 - val_loss: 0.0976\n",
            "Epoch 30/30\n",
            "\u001b[1m3525/3525\u001b[0m \u001b[32m━━━━━━━━━━━━━━━━━━━━\u001b[0m\u001b[37m\u001b[0m \u001b[1m58s\u001b[0m 17ms/step - accuracy: 0.9591 - loss: 0.0982 - val_accuracy: 0.9641 - val_loss: 0.0873\n"
          ]
        },
        {
          "name": "stderr",
          "output_type": "stream",
          "text": [
            "WARNING:absl:You are saving your model as an HDF5 file via `model.save()` or `keras.saving.save_model(model)`. This file format is considered legacy. We recommend using instead the native Keras format, e.g. `model.save('my_model.keras')` or `keras.saving.save_model(model, 'my_model.keras')`. \n"
          ]
        }
      ],
      "source": [
        "import math\n",
        "\n",
        "# Calculate steps per epoch\n",
        "steps_per_epoch = math.ceil(len(X_train) / 32)\n",
        "\n",
        "# Fit the model\n",
        "history = model.fit(X_train, Y_train, batch_size=32, steps_per_epoch=steps_per_epoch, epochs=30, validation_data=(X_test, Y_test))\n",
        "\n",
        "# Save the model\n",
        "model.save(r\"C:\\Users\\aditi\\Downloads\\HandwrittenCharacterRecognition-main\\HandwrittenCharacterRecognition-main\\Handwritten_Character_Recognition_model.h5\")\n"
      ]
    },
    {
      "cell_type": "markdown",
      "metadata": {
        "id": "njygtDOoFXgm"
      },
      "source": [
        "👉Test Accuracy"
      ]
    },
    {
      "cell_type": "code",
      "execution_count": 26,
      "metadata": {
        "colab": {
          "base_uri": "https://localhost:8080/"
        },
        "id": "66MKA1GK7pCw",
        "outputId": "66d25b90-5062-4790-d77f-b00ed7e0a43d"
      },
      "outputs": [
        {
          "name": "stdout",
          "output_type": "stream",
          "text": [
            "3525/3525 - 25s - 7ms/step - accuracy: 0.9641 - loss: 0.0873\n",
            "\n",
            "Test accuracy: 0.9641308784484863\n"
          ]
        }
      ],
      "source": [
        "test_loss, test_acc = model.evaluate(X_test, Y_test, verbose=2)\n",
        "print('\\nTest accuracy:', test_acc)"
      ]
    },
    {
      "cell_type": "markdown",
      "metadata": {
        "id": "MdKngsB0FaJR"
      },
      "source": [
        "👉Visualizing performance"
      ]
    },
    {
      "cell_type": "code",
      "execution_count": 27,
      "metadata": {
        "colab": {
          "base_uri": "https://localhost:8080/",
          "height": 388
        },
        "id": "5MsF5bahPmRR",
        "outputId": "0e0c3a3d-1b0d-4f16-a8b2-75d3d26e404a"
      },
      "outputs": [
        {
          "data": {
            "text/plain": [
              "<matplotlib.legend.Legend at 0x212b23b05f0>"
            ]
          },
          "execution_count": 27,
          "metadata": {},
          "output_type": "execute_result"
        },
        {
          "data": {
            "image/png": "[encoded data removed]",
            "text/plain": [
              "<Figure size 2000x500 with 2 Axes>"
            ]
          },
          "metadata": {},
          "output_type": "display_data"
        }
      ],
      "source": [
        "fig, (ax1, ax2) = plt.subplots(nrows=1, ncols=2, figsize=(20, 5))\n",
        "\n",
        "ax1.plot(history.history['accuracy'], color='g', )\n",
        "ax1.plot(history.history['val_accuracy'], color='y')\n",
        "ax1.set_title('Accuracy')\n",
        "ax1.legend(['Train', 'Validation'], loc='upper left')\n",
        "\n",
        "ax2.plot(history.history['loss'], color='g', )\n",
        "ax2.plot(history.history['val_loss'], color='y')\n",
        "ax2.set_title('Loss')\n",
        "ax2.legend(['Train', 'Validation'], loc='upper left')"
      ]
    },
    {
      "cell_type": "markdown",
      "metadata": {
        "id": "jk0NphbHFmta"
      },
      "source": [
        "👉Predicting on Given data"
      ]
    },
    {
      "cell_type": "code",
      "execution_count": 28,
      "metadata": {
        "id": "NH_l1LlFc40h"
      },
      "outputs": [],
      "source": [
        "import random\n",
        "t = random.randint(0, num_test_images-1)\n",
        "img = X_test[t]\n",
        "label = np.argmax(Y_test[t])"
      ]
    },
    {
      "cell_type": "code",
      "execution_count": 29,
      "metadata": {
        "colab": {
          "base_uri": "https://localhost:8080/"
        },
        "id": "5lr_EkwodYkq",
        "outputId": "e44ee0c3-1848-46e1-bb82-47aae1897b20"
      },
      "outputs": [
        {
          "data": {
            "text/plain": [
              "30"
            ]
          },
          "execution_count": 29,
          "metadata": {},
          "output_type": "execute_result"
        }
      ],
      "source": [
        "label"
      ]
    },
    {
      "cell_type": "code",
      "execution_count": 30,
      "metadata": {
        "colab": {
          "base_uri": "https://localhost:8080/",
          "height": 469
        },
        "id": "ETOoatFsdAIn",
        "outputId": "b248a7cd-bcb6-488f-f49a-c940f89f0b13"
      },
      "outputs": [
        {
          "data": {
            "text/plain": [
              "Text(0.5, 1.0, 'U')"
            ]
          },
          "execution_count": 30,
          "metadata": {},
          "output_type": "execute_result"
        },
        {
          "data": {
            "image/png": "[encoded data removed]",
            "text/plain": [
              "<Figure size 640x480 with 1 Axes>"
            ]
          },
          "metadata": {},
          "output_type": "display_data"
        }
      ],
      "source": [
        "plt.imshow(img)\n",
        "plt.title(chr(map[label]))"
      ]
    },
    {
      "cell_type": "code",
      "execution_count": 31,
      "metadata": {
        "colab": {
          "base_uri": "https://localhost:8080/"
        },
        "id": "MBa-q4MseD5v",
        "outputId": "5a356202-9084-486e-a265-bb6a19df6710"
      },
      "outputs": [
        {
          "data": {
            "text/plain": [
              "(28, 28, 1)"
            ]
          },
          "execution_count": 31,
          "metadata": {},
          "output_type": "execute_result"
        }
      ],
      "source": [
        "img.shape"
      ]
    },
    {
      "cell_type": "code",
      "execution_count": 32,
      "metadata": {
        "colab": {
          "base_uri": "https://localhost:8080/"
        },
        "id": "wNG6brnmdRbd",
        "outputId": "ff9ddbcd-30ac-4d2a-a5b6-60469bebbdbb"
      },
      "outputs": [
        {
          "name": "stdout",
          "output_type": "stream",
          "text": [
            "\u001b[1m1/1\u001b[0m \u001b[32m━━━━━━━━━━━━━━━━━━━━\u001b[0m\u001b[37m\u001b[0m \u001b[1m0s\u001b[0m 205ms/step\n"
          ]
        }
      ],
      "source": [
        "pred = model.predict(img.reshape(1, 28, 28, 1))"
      ]
    },
    {
      "cell_type": "code",
      "execution_count": 33,
      "metadata": {
        "colab": {
          "base_uri": "https://localhost:8080/",
          "height": 36
        },
        "id": "Z9gMSmAnd0Iw",
        "outputId": "c0b8d099-ac08-497e-eea3-e7599ff61193"
      },
      "outputs": [
        {
          "data": {
            "text/plain": [
              "'U'"
            ]
          },
          "execution_count": 33,
          "metadata": {},
          "output_type": "execute_result"
        }
      ],
      "source": [
        "chr(map[np.argmax(pred)])"
      ]
    },
    {
      "cell_type": "markdown",
      "metadata": {
        "id": "nZOC2X_DFsqH"
      },
      "source": [
        "👉Predicting on new data"
      ]
    },
    {
      "cell_type": "code",
      "execution_count": 34,
      "metadata": {
        "id": "OaXOsh4ieLNG"
      },
      "outputs": [],
      "source": [
        "from PIL import Image"
      ]
    },
    {
      "cell_type": "code",
      "execution_count": 36,
      "metadata": {
        "colab": {
          "base_uri": "https://localhost:8080/",
          "height": 447
        },
        "id": "DW9pUPzIe2S1",
        "outputId": "3fcf1fc1-6939-4655-831b-153c49591f2a"
      },
      "outputs": [
        {
          "data": {
            "text/plain": [
              "<matplotlib.image.AxesImage at 0x212b2c7a5d0>"
            ]
          },
          "execution_count": 36,
          "metadata": {},
          "output_type": "execute_result"
        },
        {
          "data": {
            "image/png": "[encoded data removed]",
            "text/plain": [
              "<Figure size 640x480 with 1 Axes>"
            ]
          },
          "metadata": {},
          "output_type": "display_data"
        }
      ],
      "source": [
        "image = r\"C:\\Users\\aditi\\Downloads\\HandwrittenCharacterRecognition-main\\HandwrittenCharacterRecognition-main\\i1.png\"\n",
        "image = Image.open(image)\n",
        "image = image.resize((28, 28))\n",
        "image = image.convert('L')\n",
        "\n",
        "image = np.asarray(image)\n",
        "image = image.reshape(28, 28, 1)\n",
        "image = image.astype('float64')\n",
        "image = image/255.0\n",
        "\n",
        "plt.imshow(image)"
      ]
    },
    {
      "cell_type": "code",
      "execution_count": 37,
      "metadata": {
        "colab": {
          "base_uri": "https://localhost:8080/"
        },
        "id": "oBY5a7gCfcbW",
        "outputId": "f054e020-db1f-43fe-93ee-1a146e90a65d"
      },
      "outputs": [
        {
          "name": "stdout",
          "output_type": "stream",
          "text": [
            "\u001b[1m1/1\u001b[0m \u001b[32m━━━━━━━━━━━━━━━━━━━━\u001b[0m\u001b[37m\u001b[0m \u001b[1m0s\u001b[0m 59ms/step\n"
          ]
        }
      ],
      "source": [
        "pred = model.predict(image.reshape(1, 28, 28, 1))"
      ]
    },
    {
      "cell_type": "code",
      "execution_count": 38,
      "metadata": {
        "colab": {
          "base_uri": "https://localhost:8080/",
          "height": 36
        },
        "id": "NRNAzTIafm60",
        "outputId": "703fe3ff-9abc-4efd-905c-12762683332e"
      },
      "outputs": [
        {
          "data": {
            "text/plain": [
              "'A'"
            ]
          },
          "execution_count": 38,
          "metadata": {},
          "output_type": "execute_result"
        }
      ],
      "source": [
        "chr(map[np.argmax(pred)])"
      ]
    },
    {
      "cell_type": "code",
      "execution_count": 40,
      "metadata": {
        "colab": {
          "base_uri": "https://localhost:8080/",
          "height": 447
        },
        "id": "HtzbgJQtfqXp",
        "outputId": "77c93168-f21d-40d7-cb13-5d22a10b0c55"
      },
      "outputs": [
        {
          "data": {
            "text/plain": [
              "<matplotlib.image.AxesImage at 0x212b29c39b0>"
            ]
          },
          "execution_count": 40,
          "metadata": {},
          "output_type": "execute_result"
        },
        {
          "data": {
            "image/png": "[encoded data removed]",
            "text/plain": [
              "<Figure size 640x480 with 1 Axes>"
            ]
          },
          "metadata": {},
          "output_type": "display_data"
        }
      ],
      "source": [
        "image = r\"C:\\Users\\aditi\\Downloads\\HandwrittenCharacterRecognition-main\\HandwrittenCharacterRecognition-main\\i2.png\"\n",
        "image = Image.open(image)\n",
        "image = image.resize((28, 28))\n",
        "image = image.convert('L')\n",
        "\n",
        "image = np.asarray(image)\n",
        "image = image.reshape(28, 28, 1)\n",
        "image = image.astype('float64')\n",
        "image = image/255.0\n",
        "\n",
        "plt.imshow(image)"
      ]
    },
    {
      "cell_type": "code",
      "execution_count": 41,
      "metadata": {
        "colab": {
          "base_uri": "https://localhost:8080/"
        },
        "id": "-OdFrZkuEHSu",
        "outputId": "b40da901-856b-47bb-88c6-1b4873f000f2"
      },
      "outputs": [
        {
          "name": "stdout",
          "output_type": "stream",
          "text": [
            "\u001b[1m1/1\u001b[0m \u001b[32m━━━━━━━━━━━━━━━━━━━━\u001b[0m\u001b[37m\u001b[0m \u001b[1m0s\u001b[0m 58ms/step\n"
          ]
        }
      ],
      "source": [
        "pred = model.predict(image.reshape(1, 28, 28, 1))"
      ]
    },
    {
      "cell_type": "code",
      "execution_count": 42,
      "metadata": {
        "colab": {
          "base_uri": "https://localhost:8080/",
          "height": 36
        },
        "id": "Bkql_uBzEKLL",
        "outputId": "3138257a-ba6a-4818-dbe6-eeb56d75e624"
      },
      "outputs": [
        {
          "data": {
            "text/plain": [
              "'G'"
            ]
          },
          "execution_count": 42,
          "metadata": {},
          "output_type": "execute_result"
        }
      ],
      "source": [
        "chr(map[np.argmax(pred)])"
      ]
    },
    {
      "cell_type": "code",
      "execution_count": 44,
      "metadata": {
        "colab": {
          "base_uri": "https://localhost:8080/",
          "height": 447
        },
        "id": "jb_pDnE6ESZl",
        "outputId": "3c6f85f2-2194-4f78-f912-1f5476cdafc4"
      },
      "outputs": [
        {
          "data": {
            "text/plain": [
              "<matplotlib.image.AxesImage at 0x212b2851fa0>"
            ]
          },
          "execution_count": 44,
          "metadata": {},
          "output_type": "execute_result"
        },
        {
          "data": {
            "image/png": "[encoded data removed]",
            "text/plain": [
              "<Figure size 640x480 with 1 Axes>"
            ]
          },
          "metadata": {},
          "output_type": "display_data"
        }
      ],
      "source": [
        "image = r\"C:\\Users\\aditi\\Downloads\\HandwrittenCharacterRecognition-main\\HandwrittenCharacterRecognition-main\\i3.png\"\n",
        "image = Image.open(image)\n",
        "image = image.resize((28, 28))\n",
        "image = image.convert('L')\n",
        "\n",
        "image = np.asarray(image)\n",
        "image = image.reshape(28, 28, 1)\n",
        "image = image.astype('float64')\n",
        "image = image/255.0\n",
        "\n",
        "plt.imshow(image)"
      ]
    },
    {
      "cell_type": "code",
      "execution_count": 45,
      "metadata": {
        "colab": {
          "base_uri": "https://localhost:8080/"
        },
        "id": "ZQhN_TscESWS",
        "outputId": "57a45cca-e64e-4aae-9477-f0e70d48d26f"
      },
      "outputs": [
        {
          "name": "stdout",
          "output_type": "stream",
          "text": [
            "\u001b[1m1/1\u001b[0m \u001b[32m━━━━━━━━━━━━━━━━━━━━\u001b[0m\u001b[37m\u001b[0m \u001b[1m0s\u001b[0m 57ms/step\n"
          ]
        }
      ],
      "source": [
        "pred = model.predict(image.reshape(1, 28, 28, 1))"
      ]
    },
    {
      "cell_type": "code",
      "execution_count": 46,
      "metadata": {
        "colab": {
          "base_uri": "https://localhost:8080/",
          "height": 36
        },
        "id": "E80Tm2wWEST1",
        "outputId": "66987c40-b8bf-4aca-8bcf-2221a9cf47df"
      },
      "outputs": [
        {
          "data": {
            "text/plain": [
              "'2'"
            ]
          },
          "execution_count": 46,
          "metadata": {},
          "output_type": "execute_result"
        }
      ],
      "source": [
        "chr(map[np.argmax(pred)])"
      ]
    }
  ],
  "metadata": {
    "colab": {
      "provenance": []
    },
    "kernelspec": {
      "display_name": "Python 3",
      "name": "python3"
    },
    "language_info": {
      "codemirror_mode": {
        "name": "ipython",
        "version": 3
      },
      "file_extension": ".py",
      "mimetype": "text/x-python",
      "name": "python",
      "nbconvert_exporter": "python",
      "pygments_lexer": "ipython3",
      "version": "3.12.1"
    }
  },
  "nbformat": 4,
  "nbformat_minor": 0
}
